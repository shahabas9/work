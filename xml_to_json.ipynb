{
 "cells": [
  {
   "cell_type": "code",
   "execution_count": null,
   "metadata": {},
   "outputs": [],
   "source": [
    "import xmltodict\n",
    "import json\n",
    "\n",
    "# Open the XML file\n",
    "with open('example.xml', 'r') as xml_file:\n",
    "\n",
    "    # Convert the XML data into a Python dictionary\n",
    "    xml_dict = xmltodict.parse(xml_file.read())\n",
    "\n",
    "    # Convert the dictionary into a JSON string\n",
    "    json_string = json.dumps(xml_dict)\n",
    "\n",
    "# Write the JSON string to a file\n",
    "with open('example.json', 'w') as json_file:\n",
    "    json_file.write(json_string)\n"
   ]
  }
 ],
 "metadata": {
  "kernelspec": {
   "display_name": "Python 3",
   "language": "python",
   "name": "python3"
  },
  "language_info": {
   "codemirror_mode": {
    "name": "ipython",
    "version": 3
   },
   "file_extension": ".py",
   "mimetype": "text/x-python",
   "name": "python",
   "nbconvert_exporter": "python",
   "pygments_lexer": "ipython3",
   "version": "3.8.5"
  }
 },
 "nbformat": 4,
 "nbformat_minor": 4
}
