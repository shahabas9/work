{
 "cells": [
  {
   "cell_type": "code",
   "execution_count": 1,
   "id": "32f09c78",
   "metadata": {},
   "outputs": [],
   "source": [
    "from pymongo import MongoClient\n",
    "import shutil\n",
    "import os\n",
    "from pprint import pprint"
   ]
  },
  {
   "cell_type": "code",
   "execution_count": 5,
   "id": "8383c00d",
   "metadata": {},
   "outputs": [],
   "source": [
    "client=MongoClient(host=[\"localhost:27017\"])\n",
    "db=client[\"jidoka\"]\n",
    "component_name=\"280_901\"\n",
    "component=db[component_name]"
   ]
  },
  {
   "cell_type": "code",
   "execution_count": 119,
   "id": "b1c2e462",
   "metadata": {
    "scrolled": false
   },
   "outputs": [
    {
     "name": "stdout",
     "output_type": "stream",
     "text": [
      "FileNotFoundError(2, 'No such file or directory')\n",
      "FileNotFoundError(2, 'No such file or directory')\n",
      "FileNotFoundError(2, 'No such file or directory')\n",
      "FileNotFoundError(2, 'No such file or directory')\n",
      "FileNotFoundError(2, 'No such file or directory')\n",
      "FileNotFoundError(2, 'No such file or directory')\n",
      "FileNotFoundError(2, 'No such file or directory')\n",
      "FileNotFoundError(2, 'No such file or directory')\n",
      "FileNotFoundError(2, 'No such file or directory')\n",
      "FileNotFoundError(2, 'No such file or directory')\n",
      "FileNotFoundError(2, 'No such file or directory')\n",
      "FileNotFoundError(2, 'No such file or directory')\n",
      "FileNotFoundError(2, 'No such file or directory')\n",
      "FileNotFoundError(2, 'No such file or directory')\n"
     ]
    },
    {
     "ename": "FileNotFoundError",
     "evalue": "[Errno 2] No such file or directory: '/jidoka/v3.1.3/analysis/specificity_error/280_901/281_901_21Jan/defect.txt'",
     "output_type": "error",
     "traceback": [
      "\u001b[0;31m---------------------------------------------------------------------------\u001b[0m",
      "\u001b[0;31mFileNotFoundError\u001b[0m                         Traceback (most recent call last)",
      "Cell \u001b[0;32mIn [119], line 74\u001b[0m\n\u001b[1;32m     72\u001b[0m \u001b[38;5;28;01mfor\u001b[39;00m x \u001b[38;5;129;01min\u001b[39;00m clss_list:\n\u001b[1;32m     73\u001b[0m     lis\u001b[38;5;241m.\u001b[39mappend((clss_list\u001b[38;5;241m.\u001b[39mcount(x),x))\n\u001b[0;32m---> 74\u001b[0m \u001b[38;5;28;01mwith\u001b[39;00m \u001b[38;5;28;43mopen\u001b[39;49m\u001b[43m \u001b[49m\u001b[43m(\u001b[49m\u001b[43mos\u001b[49m\u001b[38;5;241;43m.\u001b[39;49m\u001b[43mpath\u001b[49m\u001b[38;5;241;43m.\u001b[39;49m\u001b[43mjoin\u001b[49m\u001b[43m(\u001b[49m\u001b[43mjidoka_path\u001b[49m\u001b[43m,\u001b[49m\u001b[38;5;124;43m\"\u001b[39;49m\u001b[38;5;124;43manalysis\u001b[39;49m\u001b[38;5;124;43m\"\u001b[39;49m\u001b[43m,\u001b[49m\u001b[38;5;124;43m\"\u001b[39;49m\u001b[38;5;124;43mspecificity_error\u001b[39;49m\u001b[38;5;124;43m\"\u001b[39;49m\u001b[43m,\u001b[49m\u001b[43mcomponent_name\u001b[49m\u001b[43m,\u001b[49m\u001b[43mwork_order\u001b[49m\u001b[43m,\u001b[49m\u001b[38;5;124;43m\"\u001b[39;49m\u001b[38;5;124;43mdefect.txt\u001b[39;49m\u001b[38;5;124;43m\"\u001b[39;49m\u001b[43m)\u001b[49m\u001b[43m,\u001b[49m\u001b[38;5;124;43m\"\u001b[39;49m\u001b[38;5;124;43mw\u001b[39;49m\u001b[38;5;124;43m\"\u001b[39;49m\u001b[43m)\u001b[49m \u001b[38;5;28;01mas\u001b[39;00m f:\n\u001b[1;32m     75\u001b[0m     \u001b[38;5;28;01mfor\u001b[39;00m z \u001b[38;5;129;01min\u001b[39;00m \u001b[38;5;28mlist\u001b[39m(\u001b[38;5;28mset\u001b[39m(lis)):\n\u001b[1;32m     76\u001b[0m         f\u001b[38;5;241m.\u001b[39mwritelines(\u001b[38;5;124mf\u001b[39m\u001b[38;5;124m\"\u001b[39m\u001b[38;5;132;01m{\u001b[39;00mz[\u001b[38;5;241m1\u001b[39m]\u001b[38;5;132;01m}\u001b[39;00m\u001b[38;5;124m - \u001b[39m\u001b[38;5;132;01m{\u001b[39;00mz[\u001b[38;5;241m0\u001b[39m]\u001b[38;5;132;01m}\u001b[39;00m\u001b[38;5;130;01m\\n\u001b[39;00m\u001b[38;5;124m\"\u001b[39m)\n",
      "\u001b[0;31mFileNotFoundError\u001b[0m: [Errno 2] No such file or directory: '/jidoka/v3.1.3/analysis/specificity_error/280_901/281_901_21Jan/defect.txt'"
     ]
    }
   ],
   "source": [
    "lis=[]\n",
    "clss_list=[]\n",
    "old=\"OD_result_1\"\n",
    "new=\"raw\"\n",
    "jidoka_path=\"/jidoka/v3.1.3\"\n",
    "work_order=\"281_901_21Jan\"\n",
    "\n",
    "\n",
    "for component_data in component.find():\n",
    "    batch_id=component_data[\"batch_id\"]\n",
    "    len_images=len(component_data[\"images\"])\n",
    "    \n",
    "    if work_order in batch_id:\n",
    "        for i in range(len_images):\n",
    "            od=component_data['images'][i][\"module\"]\n",
    "            if od==\"object_detection\":\n",
    "                \n",
    "               \n",
    "                \n",
    "                \n",
    "        \n",
    "                img_decision = component_data[\"images\"][i]['decision']\n",
    "                \n",
    "                image_path1 = component_data[\"images\"][i]['image_path_result']\n",
    "                \n",
    "                raw_path_image=image_path1.replace(old,new)\n",
    "                \n",
    "                od_image_path1=component_data[\"images\"][i]['image_path']\n",
    "                \n",
    "                \n",
    "                if img_decision==1:\n",
    "                    \n",
    "                    \n",
    "                    class_name=component_data['images'][i]['rejection_cause']['algorithm']['detection_classnames']\n",
    "\n",
    "                    if len(class_name)>0:\n",
    "                        \n",
    "                        for j in class_name:\n",
    "                            clss_list.append(j)\n",
    "                        \n",
    "                    \n",
    "                    \n",
    "                    \n",
    "                    try:\n",
    "                        folders=[\"Result\",\"RAW\",\"OD\"]\n",
    "                        for y in folders:\n",
    "                            os.makedirs(os.path.join(jidoka_path,\"analysis\",\"specificity_error\",component_name,work_order,y))\n",
    "                            \n",
    "                    except:\n",
    "                        pass\n",
    "                    \n",
    "                    try:\n",
    "                        od_image_path=os.path.join(jidoka_path,od_image_path1)\n",
    "                        raw_img_path=os.path.join(jidoka_path,raw_path_image)\n",
    "                        image_path = os.path.join(jidoka_path,image_path1)\n",
    "                        \n",
    "                        save_path=os.path.join(jidoka_path,\"analysis\",\"specificity_error\",component_name,work_order,\"Result\",image_path1.split(\"/\")[-1])\n",
    "                \n",
    "                        save_raw_path=os.path.join(jidoka_path,\"analysis\",\"specificity_error\",component_name,work_order,\"RAW\",raw_path_image.split(\"/\")[-1])\n",
    "                        \n",
    "                        save_od=os.path.join(jidoka_path,\"analysis\",\"specificity_error\",component_name,work_order,\"OD\",od_image_path1.split(\"/\")[-1])\n",
    "                        \n",
    "                        \n",
    "                        shutil.copy(image_path,save_path)\n",
    "                        shutil.copy(raw_img_path,save_raw_path)\n",
    "                        shutil.copy(od_image_path,save_od)\n",
    "                                             \n",
    "                        \n",
    "                    except Exception as e:\n",
    "                        pprint(e)\n",
    "                        \n",
    "for x in clss_list:\n",
    "    lis.append((clss_list.count(x),x))\n",
    "with open (os.path.join(jidoka_path,\"analysis\",\"specificity_error\",component_name,work_order,\"defect.txt\"),\"w\") as f:\n",
    "    for z in list(set(lis)):\n",
    "        f.writelines(f\"{z[1]} - {z[0]}\\n\")\n"
   ]
  },
  {
   "cell_type": "code",
   "execution_count": 120,
   "id": "91eb49b7",
   "metadata": {},
   "outputs": [
    {
     "data": {
      "text/plain": [
       "[(11, 'Housing_damage'),\n",
       " (5, 'Current_bar_bend_deformed'),\n",
       " (4, 'Cage_clamp_missing')]"
      ]
     },
     "execution_count": 120,
     "metadata": {},
     "output_type": "execute_result"
    }
   ],
   "source": [
    "list(set(lis))"
   ]
  },
  {
   "cell_type": "code",
   "execution_count": null,
   "id": "85605e73",
   "metadata": {},
   "outputs": [],
   "source": []
  }
 ],
 "metadata": {
  "kernelspec": {
   "display_name": "Python 3 (ipykernel)",
   "language": "python",
   "name": "python3"
  },
  "language_info": {
   "codemirror_mode": {
    "name": "ipython",
    "version": 3
   },
   "file_extension": ".py",
   "mimetype": "text/x-python",
   "name": "python",
   "nbconvert_exporter": "python",
   "pygments_lexer": "ipython3",
   "version": "3.10.4"
  }
 },
 "nbformat": 4,
 "nbformat_minor": 5
}
