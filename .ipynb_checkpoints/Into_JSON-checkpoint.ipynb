{
 "cells": [
  {
   "cell_type": "code",
   "execution_count": 2,
   "id": "642b2817",
   "metadata": {},
   "outputs": [],
   "source": [
    "import os\n",
    "import json"
   ]
  },
  {
   "cell_type": "code",
   "execution_count": 3,
   "id": "c1aa0eda",
   "metadata": {},
   "outputs": [],
   "source": [
    "mydict=dict()\n",
    "json_file = open (\"280_870.json\", \"r\")\n",
    "data = json.loads(json_file.read())"
   ]
  },
  {
   "cell_type": "code",
   "execution_count": 8,
   "id": "288772ff",
   "metadata": {},
   "outputs": [
    {
     "name": "stdout",
     "output_type": "stream",
     "text": [
      "230105-152058_280_870_L_1_C_1_S_1_Cam_24317731_V_0_AD\n"
     ]
    }
   ],
   "source": [
    "print(data[0][\"images\"][1][\"image_id\"])"
   ]
  },
  {
   "cell_type": "code",
   "execution_count": 14,
   "id": "03409ced",
   "metadata": {},
   "outputs": [],
   "source": [
    "directory=\"/home/shahabas/Desktop/Json/\"\n",
    "for i in range(len(data)):\n",
    "    mydict=dict()\n",
    "    mydict[\"detection_boxes\"]=data[i]['images'][1][\"rejection_cause\"][\"algorithm\"][\"detection_boxes\"]\n",
    "    mydict[\"detection_classes\"]=data[i]['images'][1][\"rejection_cause\"][\"algorithm\"][\"detection_classes\"]\n",
    "    json_object = json.dumps(mydict, indent=4)\n",
    "    filename=data[i][\"images\"][1][\"image_id\"]\n",
    "    with open(directory+filename+\".json\", \"w\") as outfile:\n",
    "        outfile.write(json_object)\n"
   ]
  },
  {
   "cell_type": "code",
   "execution_count": null,
   "id": "7d91d209",
   "metadata": {},
   "outputs": [],
   "source": []
  }
 ],
 "metadata": {
  "kernelspec": {
   "display_name": "Python 3 (ipykernel)",
   "language": "python",
   "name": "python3"
  },
  "language_info": {
   "codemirror_mode": {
    "name": "ipython",
    "version": 3
   },
   "file_extension": ".py",
   "mimetype": "text/x-python",
   "name": "python",
   "nbconvert_exporter": "python",
   "pygments_lexer": "ipython3",
   "version": "3.10.4"
  }
 },
 "nbformat": 4,
 "nbformat_minor": 5
}
