{
 "cells": [
  {
   "cell_type": "code",
   "execution_count": 1,
   "id": "8bb97473",
   "metadata": {},
   "outputs": [],
   "source": [
    "from pymongo import MongoClient\n",
    "import os\n",
    "import numpy as np\n",
    "import shutil\n",
    "import cv2\n",
    "import matplotlib.pyplot as plt\n"
   ]
  },
  {
   "cell_type": "code",
   "execution_count": 161,
   "id": "7759e726",
   "metadata": {},
   "outputs": [],
   "source": [
    "client=MongoClient(host=[\"localhost:27017\"])\n",
    "db=client[\"jidoka\"]\n",
    "component_name=\"282_901\"\n",
    "component=db[component_name]\n",
    "work_order=\"282_901_test1\"\n",
    "jidoka_path=\"/home/shahabas/shahabas/\"\n"
   ]
  },
  {
   "cell_type": "code",
   "execution_count": 167,
   "id": "ec21102e",
   "metadata": {
    "scrolled": false
   },
   "outputs": [],
   "source": [
    "folder_name =\"wago_analysis\"\n",
    "folder_path = os.path.join(jidoka_path, folder_name,component_name,work_order)\n",
    "if not os.path.exists(folder_path):\n",
    "    os.makedirs(folder_path)\n",
    "\n",
    "\n",
    "\n",
    "for component_data in component.find():\n",
    "    batch_id = component_data[\"batch_id\"]\n",
    "    aql_data = component_data[\"aql_metadata\"]\n",
    "\n",
    "    if work_order in batch_id:\n",
    "        for i in range(len(aql_data)):\n",
    "            od_box = component_data[\"aql_metadata\"][\"unique_in_OD\"][\"detection_boxes\"]\n",
    "            ad_box = component_data[\"aql_metadata\"][\"unique_in_AD\"][\"detection_boxes\"]\n",
    "            od_classnames = component_data[\"aql_metadata\"][\"unique_in_OD\"][\"detection_classnames\"]\n",
    "            ad_classnames = component_data[\"aql_metadata\"][\"unique_in_AD\"][\"detection_classnames\"]\n",
    "            \n",
    "            if ((od_classnames not in ad_classnames) and (ad_classnames not in od_classnames)):\n",
    "                for i in range(len(component_data[\"images\"])):\n",
    "                    od = component_data['images'][i][\"module\"]\n",
    "                    if od == \"object_detection\":\n",
    "                        od_image = component_data[\"images\"][i]['image_path'].split(\"/\")[-1]\n",
    "                        if \"OD.png\" in od_image:\n",
    "                            od_image_path = os.path.join(jidoka_path, component_data[\"images\"][i]['image_path'])\n",
    "                            \n",
    "                            img = cv2.imread(od_image_path)\n",
    "                            a = cv2.resize(img, (900, 1024), interpolation=cv2.INTER_AREA)\n",
    "                            for i in od_box:\n",
    "                                x1, y1 = int(i[0] * 1024), int(i[1] * 900)\n",
    "                                x2, y2 = int(i[2] * 1024), int(i[3] * 900)\n",
    "                                cv2.rectangle(a,(y2,x2),(y1,x1),(0,0,255),thickness=2)\n",
    "                            for i in ad_box:\n",
    "                                x1,y1=int(i[0]*1024),int(i[1]*900)\n",
    "                                x2,y2=int(i[2]*1024),int(i[3]*900)\n",
    "                                cv2.rectangle(a,(y2,x2),(y1,x1),(0,255,0),thickness=2)\n",
    "                                d=cv2.resize(a,(2048,1056))\n",
    "                                \n",
    "                 \n",
    "                \n",
    "                save_path = os.path.join(folder_path,od_image)\n",
    "                cv2.imwrite(save_path, d)\n",
    "                \n",
    "#             plt.imshow(d)\n",
    "#             plt.show()\n",
    "#             break\n",
    "            "
   ]
  },
  {
   "cell_type": "code",
   "execution_count": null,
   "id": "f58eee96",
   "metadata": {},
   "outputs": [],
   "source": []
  }
 ],
 "metadata": {
  "kernelspec": {
   "display_name": "Python 3",
   "language": "python",
   "name": "python3"
  },
  "language_info": {
   "codemirror_mode": {
    "name": "ipython",
    "version": 3
   },
   "file_extension": ".py",
   "mimetype": "text/x-python",
   "name": "python",
   "nbconvert_exporter": "python",
   "pygments_lexer": "ipython3",
   "version": "3.8.10 (default, Nov 14 2022, 12:59:47) \n[GCC 9.4.0]"
  },
  "vscode": {
   "interpreter": {
    "hash": "916dbcbb3f70747c44a77c7bcd40155683ae19c65e1c03b4aa3499c5328201f1"
   }
  }
 },
 "nbformat": 4,
 "nbformat_minor": 5
}
