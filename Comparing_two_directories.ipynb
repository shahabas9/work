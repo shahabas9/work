{
 "cells": [
  {
   "cell_type": "code",
   "execution_count": 1,
   "metadata": {},
   "outputs": [
    {
     "name": "stdout",
     "output_type": "stream",
     "text": [
      "Files only in /jidoka/workspace/jdisk2/Shahabas/Model3_5/sim_1/defectwise/ng : {'ng_220512-133754_HSCR1009FO01_C_22_S_5_Cam_24035121_V_1_OD.png', '220920-225805_HSCR1009FO01_L_1_C_657_S_5_Cam_24035121_V_1_OD.png'}\n",
      "Files only in /jidoka/workspace/jdisk2/Shahabas/Model3_5/sim_3/defectwise/ng : set()\n"
     ]
    }
   ],
   "source": [
    "import os\n",
    "\n",
    "dir1 = \"/jidoka/workspace/jdisk2/Shahabas/Model3_5/sim_1/defectwise/ng\"\n",
    "dir2 = \"/jidoka/workspace/jdisk2/Shahabas/Model3_5/sim_3/defectwise/ng\"\n",
    "\n",
    "# Get the set of filenames in each directory\n",
    "files1 = set(os.listdir(dir1))\n",
    "files2 = set(os.listdir(dir2))\n",
    "\n",
    "# Find the files that are in one directory but not the other\n",
    "only_in_dir1 = files1 - files2\n",
    "only_in_dir2 = files2 - files1\n",
    "\n",
    "# Print the names of the files that are only in one directory\n",
    "print(\"Files only in\", dir1, \":\", only_in_dir1)\n",
    "print(\"Files only in\", dir2, \":\", only_in_dir2)"
   ]
  },
  {
   "cell_type": "code",
   "execution_count": null,
   "metadata": {},
   "outputs": [],
   "source": []
  }
 ],
 "metadata": {
  "kernelspec": {
   "display_name": "Python 3",
   "language": "python",
   "name": "python3"
  },
  "language_info": {
   "codemirror_mode": {
    "name": "ipython",
    "version": 3
   },
   "file_extension": ".py",
   "mimetype": "text/x-python",
   "name": "python",
   "nbconvert_exporter": "python",
   "pygments_lexer": "ipython3",
   "version": "3.8.5"
  }
 },
 "nbformat": 4,
 "nbformat_minor": 4
}
