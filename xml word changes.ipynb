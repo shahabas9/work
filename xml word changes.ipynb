{
 "cells": [
  {
   "cell_type": "code",
   "execution_count": 1,
   "id": "02ca42a7",
   "metadata": {},
   "outputs": [],
   "source": [
    "import os"
   ]
  },
  {
   "cell_type": "code",
   "execution_count": 6,
   "id": "c2f53a89",
   "metadata": {},
   "outputs": [
    {
     "data": {
      "text/plain": [
       "'/home/shahabas/Desktop'"
      ]
     },
     "execution_count": 6,
     "metadata": {},
     "output_type": "execute_result"
    }
   ],
   "source": [
    "os.getcwd()"
   ]
  },
  {
   "cell_type": "code",
   "execution_count": 24,
   "id": "82710c38",
   "metadata": {},
   "outputs": [],
   "source": [
    "filename=os.listdir()\n",
    "    "
   ]
  },
  {
   "cell_type": "code",
   "execution_count": 27,
   "id": "6de8bbd3",
   "metadata": {
    "scrolled": true
   },
   "outputs": [],
   "source": [
    "for file in filename:\n",
    "    if \".xml\" in file:\n",
    "        with open(file,\"r+\") as f:\n",
    "            line =f.read()\n",
    "            line=line.replace(\"thick_oil\",\"thick oil\")\n",
    "            \n",
    "                \n",
    "                \n",
    "        \n",
    "        with open(file,\"w\") as g:\n",
    "            g.write(line)\n"
   ]
  }
 ],
 "metadata": {
  "kernelspec": {
   "display_name": "Python 3 (ipykernel)",
   "language": "python",
   "name": "python3"
  },
  "language_info": {
   "codemirror_mode": {
    "name": "ipython",
    "version": 3
   },
   "file_extension": ".py",
   "mimetype": "text/x-python",
   "name": "python",
   "nbconvert_exporter": "python",
   "pygments_lexer": "ipython3",
   "version": "3.10.4"
  }
 },
 "nbformat": 4,
 "nbformat_minor": 5
}
